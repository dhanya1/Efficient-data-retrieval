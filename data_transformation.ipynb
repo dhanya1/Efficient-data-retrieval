{
 "cells": [
  {
   "cell_type": "code",
   "execution_count": 21,
   "metadata": {
    "collapsed": true
   },
   "outputs": [],
   "source": [
    "import pandas as pd\n",
    "import sqlite3\n",
    "from datetime import datetime\n",
    "from itertools import product\n",
    "import os"
   ]
  },
  {
   "cell_type": "code",
   "execution_count": 22,
   "metadata": {
    "collapsed": true
   },
   "outputs": [],
   "source": [
    "data = pd.read_csv('events.csv')"
   ]
  },
  {
   "cell_type": "code",
   "execution_count": 23,
   "metadata": {},
   "outputs": [
    {
     "data": {
      "text/html": [
       "<div>\n",
       "<style>\n",
       "    .dataframe thead tr:only-child th {\n",
       "        text-align: right;\n",
       "    }\n",
       "\n",
       "    .dataframe thead th {\n",
       "        text-align: left;\n",
       "    }\n",
       "\n",
       "    .dataframe tbody tr th {\n",
       "        vertical-align: top;\n",
       "    }\n",
       "</style>\n",
       "<table border=\"1\" class=\"dataframe\">\n",
       "  <thead>\n",
       "    <tr style=\"text-align: right;\">\n",
       "      <th></th>\n",
       "      <th>content_ID</th>\n",
       "      <th>device_ID</th>\n",
       "      <th>event_type</th>\n",
       "      <th>event_time</th>\n",
       "    </tr>\n",
       "  </thead>\n",
       "  <tbody>\n",
       "    <tr>\n",
       "      <th>0</th>\n",
       "      <td>16</td>\n",
       "      <td>1</td>\n",
       "      <td>start</td>\n",
       "      <td>2016-01-01 00:00:01</td>\n",
       "    </tr>\n",
       "    <tr>\n",
       "      <th>1</th>\n",
       "      <td>27</td>\n",
       "      <td>2</td>\n",
       "      <td>start</td>\n",
       "      <td>2016-01-01 00:00:01</td>\n",
       "    </tr>\n",
       "    <tr>\n",
       "      <th>2</th>\n",
       "      <td>78</td>\n",
       "      <td>3</td>\n",
       "      <td>start</td>\n",
       "      <td>2016-01-01 00:00:01</td>\n",
       "    </tr>\n",
       "    <tr>\n",
       "      <th>3</th>\n",
       "      <td>78</td>\n",
       "      <td>3</td>\n",
       "      <td>end</td>\n",
       "      <td>2016-01-01 00:00:28</td>\n",
       "    </tr>\n",
       "    <tr>\n",
       "      <th>4</th>\n",
       "      <td>54</td>\n",
       "      <td>3</td>\n",
       "      <td>start</td>\n",
       "      <td>2016-01-01 00:00:28</td>\n",
       "    </tr>\n",
       "  </tbody>\n",
       "</table>\n",
       "</div>"
      ],
      "text/plain": [
       "   content_ID  device_ID event_type           event_time\n",
       "0          16          1      start  2016-01-01 00:00:01\n",
       "1          27          2      start  2016-01-01 00:00:01\n",
       "2          78          3      start  2016-01-01 00:00:01\n",
       "3          78          3        end  2016-01-01 00:00:28\n",
       "4          54          3      start  2016-01-01 00:00:28"
      ]
     },
     "execution_count": 23,
     "metadata": {},
     "output_type": "execute_result"
    }
   ],
   "source": [
    "data.head()"
   ]
  },
  {
   "cell_type": "code",
   "execution_count": 24,
   "metadata": {
    "collapsed": true
   },
   "outputs": [],
   "source": [
    "data['event_time']=pd.to_datetime(data['event_time'])"
   ]
  },
  {
   "cell_type": "code",
   "execution_count": 25,
   "metadata": {
    "collapsed": true
   },
   "outputs": [],
   "source": [
    "df_start = data[data['event_type'] == 'start'].sort_values(by=['content_ID','device_ID','event_time'])\n",
    "df_end = data[data['event_type'] == 'end'].sort_values(by=['content_ID','device_ID','event_time'])"
   ]
  },
  {
   "cell_type": "code",
   "execution_count": 26,
   "metadata": {},
   "outputs": [
    {
     "data": {
      "text/html": [
       "<div>\n",
       "<style>\n",
       "    .dataframe thead tr:only-child th {\n",
       "        text-align: right;\n",
       "    }\n",
       "\n",
       "    .dataframe thead th {\n",
       "        text-align: left;\n",
       "    }\n",
       "\n",
       "    .dataframe tbody tr th {\n",
       "        vertical-align: top;\n",
       "    }\n",
       "</style>\n",
       "<table border=\"1\" class=\"dataframe\">\n",
       "  <thead>\n",
       "    <tr style=\"text-align: right;\">\n",
       "      <th></th>\n",
       "      <th>content_ID</th>\n",
       "      <th>device_ID</th>\n",
       "      <th>event_type</th>\n",
       "      <th>event_time</th>\n",
       "    </tr>\n",
       "  </thead>\n",
       "  <tbody>\n",
       "    <tr>\n",
       "      <th>564</th>\n",
       "      <td>1</td>\n",
       "      <td>1</td>\n",
       "      <td>start</td>\n",
       "      <td>2016-01-01 00:47:25</td>\n",
       "    </tr>\n",
       "    <tr>\n",
       "      <th>886</th>\n",
       "      <td>1</td>\n",
       "      <td>1</td>\n",
       "      <td>start</td>\n",
       "      <td>2016-01-01 01:14:34</td>\n",
       "    </tr>\n",
       "    <tr>\n",
       "      <th>1500</th>\n",
       "      <td>1</td>\n",
       "      <td>1</td>\n",
       "      <td>start</td>\n",
       "      <td>2016-01-01 02:06:22</td>\n",
       "    </tr>\n",
       "    <tr>\n",
       "      <th>4242</th>\n",
       "      <td>1</td>\n",
       "      <td>1</td>\n",
       "      <td>start</td>\n",
       "      <td>2016-01-01 05:55:26</td>\n",
       "    </tr>\n",
       "    <tr>\n",
       "      <th>4378</th>\n",
       "      <td>1</td>\n",
       "      <td>1</td>\n",
       "      <td>start</td>\n",
       "      <td>2016-01-01 06:06:54</td>\n",
       "    </tr>\n",
       "  </tbody>\n",
       "</table>\n",
       "</div>"
      ],
      "text/plain": [
       "      content_ID  device_ID event_type          event_time\n",
       "564            1          1      start 2016-01-01 00:47:25\n",
       "886            1          1      start 2016-01-01 01:14:34\n",
       "1500           1          1      start 2016-01-01 02:06:22\n",
       "4242           1          1      start 2016-01-01 05:55:26\n",
       "4378           1          1      start 2016-01-01 06:06:54"
      ]
     },
     "execution_count": 26,
     "metadata": {},
     "output_type": "execute_result"
    }
   ],
   "source": [
    "df_start.head()"
   ]
  },
  {
   "cell_type": "code",
   "execution_count": 27,
   "metadata": {},
   "outputs": [
    {
     "data": {
      "text/html": [
       "<div>\n",
       "<style>\n",
       "    .dataframe thead tr:only-child th {\n",
       "        text-align: right;\n",
       "    }\n",
       "\n",
       "    .dataframe thead th {\n",
       "        text-align: left;\n",
       "    }\n",
       "\n",
       "    .dataframe tbody tr th {\n",
       "        vertical-align: top;\n",
       "    }\n",
       "</style>\n",
       "<table border=\"1\" class=\"dataframe\">\n",
       "  <thead>\n",
       "    <tr style=\"text-align: right;\">\n",
       "      <th></th>\n",
       "      <th>content_ID</th>\n",
       "      <th>device_ID</th>\n",
       "      <th>event_type</th>\n",
       "      <th>event_time</th>\n",
       "    </tr>\n",
       "  </thead>\n",
       "  <tbody>\n",
       "    <tr>\n",
       "      <th>573</th>\n",
       "      <td>1</td>\n",
       "      <td>1</td>\n",
       "      <td>end</td>\n",
       "      <td>2016-01-01 00:48:05</td>\n",
       "    </tr>\n",
       "    <tr>\n",
       "      <th>895</th>\n",
       "      <td>1</td>\n",
       "      <td>1</td>\n",
       "      <td>end</td>\n",
       "      <td>2016-01-01 01:15:14</td>\n",
       "    </tr>\n",
       "    <tr>\n",
       "      <th>1505</th>\n",
       "      <td>1</td>\n",
       "      <td>1</td>\n",
       "      <td>end</td>\n",
       "      <td>2016-01-01 02:07:02</td>\n",
       "    </tr>\n",
       "    <tr>\n",
       "      <th>4249</th>\n",
       "      <td>1</td>\n",
       "      <td>1</td>\n",
       "      <td>end</td>\n",
       "      <td>2016-01-01 05:56:06</td>\n",
       "    </tr>\n",
       "    <tr>\n",
       "      <th>4383</th>\n",
       "      <td>1</td>\n",
       "      <td>1</td>\n",
       "      <td>end</td>\n",
       "      <td>2016-01-01 06:07:34</td>\n",
       "    </tr>\n",
       "  </tbody>\n",
       "</table>\n",
       "</div>"
      ],
      "text/plain": [
       "      content_ID  device_ID event_type          event_time\n",
       "573            1          1        end 2016-01-01 00:48:05\n",
       "895            1          1        end 2016-01-01 01:15:14\n",
       "1505           1          1        end 2016-01-01 02:07:02\n",
       "4249           1          1        end 2016-01-01 05:56:06\n",
       "4383           1          1        end 2016-01-01 06:07:34"
      ]
     },
     "execution_count": 27,
     "metadata": {},
     "output_type": "execute_result"
    }
   ],
   "source": [
    "df_end.head()"
   ]
  },
  {
   "cell_type": "code",
   "execution_count": 28,
   "metadata": {},
   "outputs": [
    {
     "data": {
      "text/plain": [
       "259182"
      ]
     },
     "execution_count": 28,
     "metadata": {},
     "output_type": "execute_result"
    }
   ],
   "source": [
    "len(df_start.index)"
   ]
  },
  {
   "cell_type": "code",
   "execution_count": 29,
   "metadata": {},
   "outputs": [
    {
     "data": {
      "text/plain": [
       "259182"
      ]
     },
     "execution_count": 29,
     "metadata": {},
     "output_type": "execute_result"
    }
   ],
   "source": [
    "len(df_end.index)"
   ]
  },
  {
   "cell_type": "code",
   "execution_count": 31,
   "metadata": {},
   "outputs": [
    {
     "data": {
      "text/html": [
       "<div>\n",
       "<style>\n",
       "    .dataframe thead tr:only-child th {\n",
       "        text-align: right;\n",
       "    }\n",
       "\n",
       "    .dataframe thead th {\n",
       "        text-align: left;\n",
       "    }\n",
       "\n",
       "    .dataframe tbody tr th {\n",
       "        vertical-align: top;\n",
       "    }\n",
       "</style>\n",
       "<table border=\"1\" class=\"dataframe\">\n",
       "  <thead>\n",
       "    <tr style=\"text-align: right;\">\n",
       "      <th></th>\n",
       "      <th>content_ID</th>\n",
       "      <th>device_ID</th>\n",
       "      <th>event_id</th>\n",
       "      <th>start_time</th>\n",
       "    </tr>\n",
       "  </thead>\n",
       "  <tbody>\n",
       "    <tr>\n",
       "      <th>0</th>\n",
       "      <td>1</td>\n",
       "      <td>1</td>\n",
       "      <td>0</td>\n",
       "      <td>2016-01-01 00:47:25</td>\n",
       "    </tr>\n",
       "    <tr>\n",
       "      <th>1</th>\n",
       "      <td>1</td>\n",
       "      <td>1</td>\n",
       "      <td>1</td>\n",
       "      <td>2016-01-01 01:14:34</td>\n",
       "    </tr>\n",
       "    <tr>\n",
       "      <th>2</th>\n",
       "      <td>1</td>\n",
       "      <td>1</td>\n",
       "      <td>2</td>\n",
       "      <td>2016-01-01 02:06:22</td>\n",
       "    </tr>\n",
       "    <tr>\n",
       "      <th>3</th>\n",
       "      <td>1</td>\n",
       "      <td>1</td>\n",
       "      <td>3</td>\n",
       "      <td>2016-01-01 05:55:26</td>\n",
       "    </tr>\n",
       "    <tr>\n",
       "      <th>4</th>\n",
       "      <td>1</td>\n",
       "      <td>1</td>\n",
       "      <td>4</td>\n",
       "      <td>2016-01-01 06:06:54</td>\n",
       "    </tr>\n",
       "  </tbody>\n",
       "</table>\n",
       "</div>"
      ],
      "text/plain": [
       "   content_ID  device_ID  event_id          start_time\n",
       "0           1          1         0 2016-01-01 00:47:25\n",
       "1           1          1         1 2016-01-01 01:14:34\n",
       "2           1          1         2 2016-01-01 02:06:22\n",
       "3           1          1         3 2016-01-01 05:55:26\n",
       "4           1          1         4 2016-01-01 06:06:54"
      ]
     },
     "execution_count": 31,
     "metadata": {},
     "output_type": "execute_result"
    }
   ],
   "source": [
    "df_start = df_start.reset_index(drop=True)\n",
    "df_end = df_end.reset_index(drop=True)\n",
    "df_start['event_id'] = df_start.index\n",
    "df_start['start_time'] = df_start['event_time']\n",
    "df_end['end_time']=df_end['event_time']\n",
    "df_start = df_start.drop([\"event_type\",\"event_time\"], axis=1)\n",
    "df_start.head()"
   ]
  },
  {
   "cell_type": "code",
   "execution_count": 32,
   "metadata": {},
   "outputs": [
    {
     "data": {
      "text/plain": [
       "259182"
      ]
     },
     "execution_count": 32,
     "metadata": {},
     "output_type": "execute_result"
    }
   ],
   "source": [
    "# The data is consistent.\n",
    "out = (df_start[['device_ID','content_ID']] == df_end[['device_ID','content_ID']]).all(axis=1)\n",
    "len(df_start[out].index)\n"
   ]
  },
  {
   "cell_type": "code",
   "execution_count": 33,
   "metadata": {},
   "outputs": [
    {
     "data": {
      "text/plain": [
       "259182"
      ]
     },
     "execution_count": 33,
     "metadata": {},
     "output_type": "execute_result"
    }
   ],
   "source": [
    "len(df_start)"
   ]
  },
  {
   "cell_type": "code",
   "execution_count": 34,
   "metadata": {
    "collapsed": true
   },
   "outputs": [],
   "source": [
    "df_end = df_end.drop([\"event_type\",\"event_time\",\"content_ID\",\"device_ID\"],axis=1)\n",
    "merged = pd.concat([df_start,df_end],axis =1)"
   ]
  },
  {
   "cell_type": "code",
   "execution_count": 38,
   "metadata": {},
   "outputs": [
    {
     "data": {
      "text/html": [
       "<div>\n",
       "<style>\n",
       "    .dataframe thead tr:only-child th {\n",
       "        text-align: right;\n",
       "    }\n",
       "\n",
       "    .dataframe thead th {\n",
       "        text-align: left;\n",
       "    }\n",
       "\n",
       "    .dataframe tbody tr th {\n",
       "        vertical-align: top;\n",
       "    }\n",
       "</style>\n",
       "<table border=\"1\" class=\"dataframe\">\n",
       "  <thead>\n",
       "    <tr style=\"text-align: right;\">\n",
       "      <th></th>\n",
       "      <th>content_ID</th>\n",
       "      <th>device_ID</th>\n",
       "      <th>event_id</th>\n",
       "      <th>start_time</th>\n",
       "      <th>end_time</th>\n",
       "    </tr>\n",
       "  </thead>\n",
       "  <tbody>\n",
       "    <tr>\n",
       "      <th>0</th>\n",
       "      <td>1</td>\n",
       "      <td>1</td>\n",
       "      <td>0</td>\n",
       "      <td>2016-01-01 00:47:25</td>\n",
       "      <td>2016-01-01 00:48:05</td>\n",
       "    </tr>\n",
       "    <tr>\n",
       "      <th>1</th>\n",
       "      <td>1</td>\n",
       "      <td>1</td>\n",
       "      <td>1</td>\n",
       "      <td>2016-01-01 01:14:34</td>\n",
       "      <td>2016-01-01 01:15:14</td>\n",
       "    </tr>\n",
       "    <tr>\n",
       "      <th>2</th>\n",
       "      <td>1</td>\n",
       "      <td>1</td>\n",
       "      <td>2</td>\n",
       "      <td>2016-01-01 02:06:22</td>\n",
       "      <td>2016-01-01 02:07:02</td>\n",
       "    </tr>\n",
       "    <tr>\n",
       "      <th>3</th>\n",
       "      <td>1</td>\n",
       "      <td>1</td>\n",
       "      <td>3</td>\n",
       "      <td>2016-01-01 05:55:26</td>\n",
       "      <td>2016-01-01 05:56:06</td>\n",
       "    </tr>\n",
       "    <tr>\n",
       "      <th>4</th>\n",
       "      <td>1</td>\n",
       "      <td>1</td>\n",
       "      <td>4</td>\n",
       "      <td>2016-01-01 06:06:54</td>\n",
       "      <td>2016-01-01 06:07:34</td>\n",
       "    </tr>\n",
       "  </tbody>\n",
       "</table>\n",
       "</div>"
      ],
      "text/plain": [
       "   content_ID  device_ID  event_id          start_time            end_time\n",
       "0           1          1         0 2016-01-01 00:47:25 2016-01-01 00:48:05\n",
       "1           1          1         1 2016-01-01 01:14:34 2016-01-01 01:15:14\n",
       "2           1          1         2 2016-01-01 02:06:22 2016-01-01 02:07:02\n",
       "3           1          1         3 2016-01-01 05:55:26 2016-01-01 05:56:06\n",
       "4           1          1         4 2016-01-01 06:06:54 2016-01-01 06:07:34"
      ]
     },
     "execution_count": 38,
     "metadata": {},
     "output_type": "execute_result"
    }
   ],
   "source": [
    "# Validation\n",
    "len(merged[merged['start_time']< merged['end_time']])\n",
    "merged.head()"
   ]
  },
  {
   "cell_type": "code",
   "execution_count": 41,
   "metadata": {},
   "outputs": [],
   "source": [
    "conn = sqlite3.connect(\"advertima.db\")\n",
    "os.chmod('advertima.db',0o755)# Opens file if exists, else creates file\n",
    "cur = conn.cursor()\n",
    "merged.to_sql(name=\"event\", con=conn, if_exists=\"append\", index=False)"
   ]
  },
  {
   "cell_type": "markdown",
   "metadata": {},
   "source": [
    "Writing Persons CSV to database"
   ]
  },
  {
   "cell_type": "code",
   "execution_count": 44,
   "metadata": {},
   "outputs": [],
   "source": [
    "person = pd.read_csv('persons.csv')\n",
    "person['id']=person.index\n",
    "person['appears'] = pd.to_datetime(person['appears'])\n",
    "person['disappears'] = pd.to_datetime(person['disappears'])\n",
    "person = person.sort_values(by=['device_id','appears'])\n",
    "person.head()\n",
    "person.to_sql(name=\"person\", con=conn, if_exists=\"append\", index=False)\n"
   ]
  },
  {
   "cell_type": "markdown",
   "metadata": {},
   "source": [
    "Checking that the tables are created properly"
   ]
  },
  {
   "cell_type": "code",
   "execution_count": 45,
   "metadata": {},
   "outputs": [
    {
     "name": "stdout",
     "output_type": "stream",
     "text": [
      "====================================================================================================\n"
     ]
    },
    {
     "data": {
      "text/plain": [
       "[(1, '2016-01-01 00:00:31', '2016-01-01 00:01:14', 44, 'male', 1),\n",
       " (1, '2016-01-01 00:01:03', '2016-01-01 00:01:24', 23, 'male', 2),\n",
       " (1, '2016-01-01 00:01:23', '2016-01-01 00:01:30', 30, 'male', 4),\n",
       " (1, '2016-01-01 00:01:25', '2016-01-01 00:02:48', 70, 'female', 16),\n",
       " (1, '2016-01-01 00:01:33', '2016-01-01 00:02:02', 63, 'male', 6)]"
      ]
     },
     "execution_count": 45,
     "metadata": {},
     "output_type": "execute_result"
    }
   ],
   "source": [
    "sql = 'select * from event limit 5;'\n",
    "sql2 = 'select * from person limit 5;'\n",
    "cur.execute(sql) \n",
    "cur.fetchall()\n",
    "print(\"=\"*100)\n",
    "cur.execute(sql2)\n",
    "cur.fetchall()"
   ]
  },
  {
   "cell_type": "markdown",
   "metadata": {},
   "source": [
    "Creating index on tables to reduce latency during retrival."
   ]
  },
  {
   "cell_type": "code",
   "execution_count": 19,
   "metadata": {},
   "outputs": [
    {
     "ename": "OperationalError",
     "evalue": "index content_idx already exists",
     "output_type": "error",
     "traceback": [
      "\u001b[0;31m---------------------------------------------------------------------------\u001b[0m",
      "\u001b[0;31mOperationalError\u001b[0m                          Traceback (most recent call last)",
      "\u001b[0;32m<ipython-input-19-87f7ce7f0f5b>\u001b[0m in \u001b[0;36m<module>\u001b[0;34m()\u001b[0m\n\u001b[1;32m      1\u001b[0m \u001b[0msql\u001b[0m \u001b[0;34m=\u001b[0m \u001b[0;34m\"CREATE INDEX content_idx ON event (content_ID);\"\u001b[0m\u001b[0;34m\u001b[0m\u001b[0m\n\u001b[0;32m----> 2\u001b[0;31m \u001b[0mcur\u001b[0m\u001b[0;34m.\u001b[0m\u001b[0mexecute\u001b[0m\u001b[0;34m(\u001b[0m\u001b[0msql\u001b[0m\u001b[0;34m)\u001b[0m\u001b[0;34m\u001b[0m\u001b[0m\n\u001b[0m",
      "\u001b[0;31mOperationalError\u001b[0m: index content_idx already exists"
     ]
    }
   ],
   "source": [
    "sql = \"CREATE INDEX content_idx ON event (content_ID);\"\n",
    "cur.execute(sql) "
   ]
  },
  {
   "cell_type": "code",
   "execution_count": 20,
   "metadata": {},
   "outputs": [
    {
     "ename": "OperationalError",
     "evalue": "index pdevice_idx already exists",
     "output_type": "error",
     "traceback": [
      "\u001b[0;31m---------------------------------------------------------------------------\u001b[0m",
      "\u001b[0;31mOperationalError\u001b[0m                          Traceback (most recent call last)",
      "\u001b[0;32m<ipython-input-20-6a4277e82819>\u001b[0m in \u001b[0;36m<module>\u001b[0;34m()\u001b[0m\n\u001b[1;32m      1\u001b[0m \u001b[0msql\u001b[0m \u001b[0;34m=\u001b[0m \u001b[0;34m\"CREATE INDEX pdevice_idx ON person (device_id);\"\u001b[0m\u001b[0;34m\u001b[0m\u001b[0m\n\u001b[0;32m----> 2\u001b[0;31m \u001b[0mcur\u001b[0m\u001b[0;34m.\u001b[0m\u001b[0mexecute\u001b[0m\u001b[0;34m(\u001b[0m\u001b[0msql\u001b[0m\u001b[0;34m)\u001b[0m\u001b[0;34m\u001b[0m\u001b[0m\n\u001b[0m",
      "\u001b[0;31mOperationalError\u001b[0m: index pdevice_idx already exists"
     ]
    }
   ],
   "source": [
    "sql = \"CREATE INDEX pdevice_idx ON person (device_id);\"\n",
    "cur.execute(sql) "
   ]
  },
  {
   "cell_type": "code",
   "execution_count": 32,
   "metadata": {},
   "outputs": [
    {
     "name": "stdout",
     "output_type": "stream",
     "text": [
      "2016-01-10 02:03:08\n"
     ]
    },
    {
     "data": {
      "text/plain": [
       "596"
      ]
     },
     "execution_count": 32,
     "metadata": {},
     "output_type": "execute_result"
    }
   ],
   "source": [
    "conn = sqlite3.connect(\"advertima.db\")\n",
    "cur = conn.cursor()\n",
    "args = {'device_id' :1, 'content_id':100, 'start_time':\"2016-01-01 00:47:25\", 'end_time':\"2016-01-10 06:50:03\"}\n",
    "sql = \"select start_time,end_time from event\\\n",
    "       where device_id = {device_id} and content_id={content_id} \\\n",
    "       and max(start_time, '{start_time}') < min(end_time, '{end_time}')\".format(**args)\n",
    "content_output = pd.read_sql(sql,conn).reset_index(drop=True)\n",
    "content_output['start_time'] = pd.to_datetime(content_output['start_time'],format='%Y-%m-%d %H:%M:%S')\n",
    "content_output['end_time'] = pd.to_datetime(content_output['end_time'],format='%Y-%m-%d %H:%M:%S')\n",
    "args['end_time'] = str(max(content_output['end_time']))\n",
    "print(args['end_time'])\n",
    "len(content_output.index)"
   ]
  },
  {
   "cell_type": "code",
   "execution_count": 33,
   "metadata": {},
   "outputs": [
    {
     "data": {
      "text/plain": [
       "97396"
      ]
     },
     "execution_count": 33,
     "metadata": {},
     "output_type": "execute_result"
    }
   ],
   "source": [
    "#args = {'device_id' :1, 'content_id':1, 'start_time':\"2016-01-01 00:47:25\", 'end_time':\"2016-01-01 06:50:31\"}\n",
    "sql = \"select * from person where device_ID = {device_id} and appears between\\\n",
    "'{start_time}' and '{end_time}';\".format(**args)\n",
    "cur.execute(sql) \n",
    "person_output = pd.read_sql(sql,conn).reset_index(drop=True)\n",
    "type(person_output['appears'][0])\n",
    "person_output['appears'] = pd.to_datetime(person_output['appears'],format='%Y-%m-%d %H:%M:%S')\n",
    "person_output['disappears'] = pd.to_datetime(person_output['disappears'],format='%Y-%m-%d %H:%M:%S')\n",
    "len(person_output.index)"
   ]
  },
  {
   "cell_type": "code",
   "execution_count": null,
   "metadata": {},
   "outputs": [
    {
     "name": "stdout",
     "output_type": "stream",
     "text": [
      "3004.696813106537\n",
      "Avg age: 50.691141639\n",
      "Count: 8444\n"
     ]
    }
   ],
   "source": [
    "import time\n",
    "t0 = time.time()\n",
    "from itertools import permutations\n",
    "a = list(range(len(person_output.index)))\n",
    "b = list(range(len(content_output.index)))\n",
    "#len(list(product(a,b)))\n",
    "count = 0; age = 0; male =0; female =0;avg_age=1;gender_distribution=0;\n",
    "for i,j in product(a,b):\n",
    "    #print(i,j)\n",
    "    if max(person_output['appears'][i],content_output['start_time'][j]) <= \\\n",
    "    min(person_output['disappears'][i],content_output['end_time'][j]):\n",
    "            count+=1\n",
    "            if avg_age:\n",
    "                age += person_output['age'][i]\n",
    "            if gender_distribution:\n",
    "                if person_output['gender'][i] == 'male':\n",
    "                    male +=1 \n",
    "                elif person_output['gender'][i] == 'female':\n",
    "                    female +=1 \n",
    "                else:\n",
    "                    pass\n",
    "t1 = time.time()\n",
    "print(t1-t0)\n",
    "if age > 0:\n",
    "    print('Avg age:',age/count)\n",
    "if 0 < male or female > 0:\n",
    "    print('male {} female {}'.format(male/count,female/count))\n",
    "print('Count:',count)\n"
   ]
  },
  {
   "cell_type": "code",
   "execution_count": null,
   "metadata": {
    "collapsed": true
   },
   "outputs": [],
   "source": [
    "import time\n",
    "t0 = time.time()\n",
    "count = 0; age = 0; male =0; female =0;avg_age=1;gender_distribution=0;\n",
    "for j in b:\n",
    "    for i in a:\n",
    "        if max(person_output['appears'][i],content_output['start_time'][j]) <= \\\n",
    "        min(person_output['disappears'][i],content_output['end_time'][j]):\n",
    "            count+=1\n",
    "            if avg_age:\n",
    "                age += person_output['age'][i]\n",
    "            if gender_distribution:\n",
    "                if person_output['gender'][i] == 'male':\n",
    "                    male +=1 \n",
    "                elif person_output['gender'][i] == 'female':\n",
    "                    female +=1 \n",
    "                else:\n",
    "                    pass\n",
    "t1 = time.time()\n",
    "print(t1-t0)\n",
    "if age > 0:\n",
    "    print('Avg age:',age/count)\n",
    "if 0 < male or female > 0:\n",
    "    print('male {} female {}'.format(male/count,female/count))\n",
    "print('Count:',count)"
   ]
  },
  {
   "cell_type": "code",
   "execution_count": null,
   "metadata": {
    "collapsed": true
   },
   "outputs": [],
   "source": [
    "import multiprocessing\n",
    "import time\n",
    "t0 = time.time()\n",
    "count = 0; age = 0; male =0; female =0;avg_age=1;gender_distribution=0;\n",
    "for j in b:\n",
    "    for i in a:\n",
    "        if max(person_output['appears'][i],content_output['start_time'][j]) <= \\\n",
    "        min(person_output['disappears'][i],content_output['end_time'][j]):\n",
    "            count+=1\n",
    "            if avg_age:\n",
    "                age += person_output['age'][i]\n",
    "            if gender_distribution:\n",
    "                if person_output['gender'][i] == 'male':\n",
    "                    male +=1 \n",
    "                elif person_output['gender'][i] == 'female':\n",
    "                    female +=1 \n",
    "                else:\n",
    "                    pass\n",
    "t1 = time.time()\n",
    "print(t1-t0)\n",
    "if age > 0:\n",
    "    print('Avg age:',age/count)\n",
    "if 0 < male or female > 0:\n",
    "    print('male {} female {}'.format(male/count,female/count))\n",
    "print('Count:',count)"
   ]
  },
  {
   "cell_type": "code",
   "execution_count": 18,
   "metadata": {
    "collapsed": true
   },
   "outputs": [],
   "source": [
    "df_start['id']=df_start.index"
   ]
  },
  {
   "cell_type": "code",
   "execution_count": 19,
   "metadata": {},
   "outputs": [
    {
     "data": {
      "text/plain": [
       "0              0\n",
       "1              1\n",
       "2              2\n",
       "3              3\n",
       "4              4\n",
       "5              5\n",
       "6              6\n",
       "7              7\n",
       "8              8\n",
       "9              9\n",
       "10            10\n",
       "11            11\n",
       "12            12\n",
       "13            13\n",
       "14            14\n",
       "15            15\n",
       "16            16\n",
       "17            17\n",
       "18            18\n",
       "19            19\n",
       "20            20\n",
       "21            21\n",
       "22            22\n",
       "23            23\n",
       "24            24\n",
       "25            25\n",
       "26            26\n",
       "27            27\n",
       "28            28\n",
       "29            29\n",
       "           ...  \n",
       "259152    259152\n",
       "259153    259153\n",
       "259154    259154\n",
       "259155    259155\n",
       "259156    259156\n",
       "259157    259157\n",
       "259158    259158\n",
       "259159    259159\n",
       "259160    259160\n",
       "259161    259161\n",
       "259162    259162\n",
       "259163    259163\n",
       "259164    259164\n",
       "259165    259165\n",
       "259166    259166\n",
       "259167    259167\n",
       "259168    259168\n",
       "259169    259169\n",
       "259170    259170\n",
       "259171    259171\n",
       "259172    259172\n",
       "259173    259173\n",
       "259174    259174\n",
       "259175    259175\n",
       "259176    259176\n",
       "259177    259177\n",
       "259178    259178\n",
       "259179    259179\n",
       "259180    259180\n",
       "259181    259181\n",
       "Name: id, Length: 259182, dtype: int64"
      ]
     },
     "execution_count": 19,
     "metadata": {},
     "output_type": "execute_result"
    }
   ],
   "source": [
    "df_start['id']"
   ]
  },
  {
   "cell_type": "code",
   "execution_count": null,
   "metadata": {
    "collapsed": true
   },
   "outputs": [],
   "source": []
  }
 ],
 "metadata": {
  "kernelspec": {
   "display_name": "Python 3",
   "language": "python",
   "name": "python3"
  },
  "language_info": {
   "codemirror_mode": {
    "name": "ipython",
    "version": 3
   },
   "file_extension": ".py",
   "mimetype": "text/x-python",
   "name": "python",
   "nbconvert_exporter": "python",
   "pygments_lexer": "ipython3",
   "version": "3.6.3"
  }
 },
 "nbformat": 4,
 "nbformat_minor": 2
}

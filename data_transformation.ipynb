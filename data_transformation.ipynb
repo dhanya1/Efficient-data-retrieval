{
 "cells": [
  {
   "cell_type": "code",
   "execution_count": 2,
   "metadata": {},
   "outputs": [],
   "source": [
    "import pandas as pd\n",
    "import sqlite3\n",
    "from datetime import datetime\n",
    "from itertools import product\n",
    "import os"
   ]
  },
  {
   "cell_type": "code",
   "execution_count": 19,
   "metadata": {},
   "outputs": [],
   "source": [
    "data = pd.read_csv('events.csv')"
   ]
  },
  {
   "cell_type": "code",
   "execution_count": 20,
   "metadata": {},
   "outputs": [
    {
     "data": {
      "text/html": [
       "<div>\n",
       "<style>\n",
       "    .dataframe thead tr:only-child th {\n",
       "        text-align: right;\n",
       "    }\n",
       "\n",
       "    .dataframe thead th {\n",
       "        text-align: left;\n",
       "    }\n",
       "\n",
       "    .dataframe tbody tr th {\n",
       "        vertical-align: top;\n",
       "    }\n",
       "</style>\n",
       "<table border=\"1\" class=\"dataframe\">\n",
       "  <thead>\n",
       "    <tr style=\"text-align: right;\">\n",
       "      <th></th>\n",
       "      <th>content_ID</th>\n",
       "      <th>device_ID</th>\n",
       "      <th>event_type</th>\n",
       "      <th>event_time</th>\n",
       "    </tr>\n",
       "  </thead>\n",
       "  <tbody>\n",
       "    <tr>\n",
       "      <th>0</th>\n",
       "      <td>16</td>\n",
       "      <td>1</td>\n",
       "      <td>start</td>\n",
       "      <td>2016-01-01 00:00:01</td>\n",
       "    </tr>\n",
       "    <tr>\n",
       "      <th>1</th>\n",
       "      <td>27</td>\n",
       "      <td>2</td>\n",
       "      <td>start</td>\n",
       "      <td>2016-01-01 00:00:01</td>\n",
       "    </tr>\n",
       "    <tr>\n",
       "      <th>2</th>\n",
       "      <td>78</td>\n",
       "      <td>3</td>\n",
       "      <td>start</td>\n",
       "      <td>2016-01-01 00:00:01</td>\n",
       "    </tr>\n",
       "    <tr>\n",
       "      <th>3</th>\n",
       "      <td>78</td>\n",
       "      <td>3</td>\n",
       "      <td>end</td>\n",
       "      <td>2016-01-01 00:00:28</td>\n",
       "    </tr>\n",
       "    <tr>\n",
       "      <th>4</th>\n",
       "      <td>54</td>\n",
       "      <td>3</td>\n",
       "      <td>start</td>\n",
       "      <td>2016-01-01 00:00:28</td>\n",
       "    </tr>\n",
       "  </tbody>\n",
       "</table>\n",
       "</div>"
      ],
      "text/plain": [
       "   content_ID  device_ID event_type           event_time\n",
       "0          16          1      start  2016-01-01 00:00:01\n",
       "1          27          2      start  2016-01-01 00:00:01\n",
       "2          78          3      start  2016-01-01 00:00:01\n",
       "3          78          3        end  2016-01-01 00:00:28\n",
       "4          54          3      start  2016-01-01 00:00:28"
      ]
     },
     "execution_count": 20,
     "metadata": {},
     "output_type": "execute_result"
    }
   ],
   "source": [
    "data.head()"
   ]
  },
  {
   "cell_type": "code",
   "execution_count": 21,
   "metadata": {},
   "outputs": [],
   "source": [
    "data['event_time']=pd.to_datetime(data['event_time'])"
   ]
  },
  {
   "cell_type": "code",
   "execution_count": 22,
   "metadata": {},
   "outputs": [],
   "source": [
    "df_start = data[data['event_type'] == 'start'].sort_values(by=['content_ID','device_ID','event_time'])\n",
    "df_end = data[data['event_type'] == 'end'].sort_values(by=['content_ID','device_ID','event_time'])"
   ]
  },
  {
   "cell_type": "code",
   "execution_count": 23,
   "metadata": {},
   "outputs": [
    {
     "data": {
      "text/html": [
       "<div>\n",
       "<style>\n",
       "    .dataframe thead tr:only-child th {\n",
       "        text-align: right;\n",
       "    }\n",
       "\n",
       "    .dataframe thead th {\n",
       "        text-align: left;\n",
       "    }\n",
       "\n",
       "    .dataframe tbody tr th {\n",
       "        vertical-align: top;\n",
       "    }\n",
       "</style>\n",
       "<table border=\"1\" class=\"dataframe\">\n",
       "  <thead>\n",
       "    <tr style=\"text-align: right;\">\n",
       "      <th></th>\n",
       "      <th>content_ID</th>\n",
       "      <th>device_ID</th>\n",
       "      <th>event_type</th>\n",
       "      <th>event_time</th>\n",
       "    </tr>\n",
       "  </thead>\n",
       "  <tbody>\n",
       "    <tr>\n",
       "      <th>564</th>\n",
       "      <td>1</td>\n",
       "      <td>1</td>\n",
       "      <td>start</td>\n",
       "      <td>2016-01-01 00:47:25</td>\n",
       "    </tr>\n",
       "    <tr>\n",
       "      <th>886</th>\n",
       "      <td>1</td>\n",
       "      <td>1</td>\n",
       "      <td>start</td>\n",
       "      <td>2016-01-01 01:14:34</td>\n",
       "    </tr>\n",
       "    <tr>\n",
       "      <th>1500</th>\n",
       "      <td>1</td>\n",
       "      <td>1</td>\n",
       "      <td>start</td>\n",
       "      <td>2016-01-01 02:06:22</td>\n",
       "    </tr>\n",
       "    <tr>\n",
       "      <th>4242</th>\n",
       "      <td>1</td>\n",
       "      <td>1</td>\n",
       "      <td>start</td>\n",
       "      <td>2016-01-01 05:55:26</td>\n",
       "    </tr>\n",
       "    <tr>\n",
       "      <th>4378</th>\n",
       "      <td>1</td>\n",
       "      <td>1</td>\n",
       "      <td>start</td>\n",
       "      <td>2016-01-01 06:06:54</td>\n",
       "    </tr>\n",
       "  </tbody>\n",
       "</table>\n",
       "</div>"
      ],
      "text/plain": [
       "      content_ID  device_ID event_type          event_time\n",
       "564            1          1      start 2016-01-01 00:47:25\n",
       "886            1          1      start 2016-01-01 01:14:34\n",
       "1500           1          1      start 2016-01-01 02:06:22\n",
       "4242           1          1      start 2016-01-01 05:55:26\n",
       "4378           1          1      start 2016-01-01 06:06:54"
      ]
     },
     "execution_count": 23,
     "metadata": {},
     "output_type": "execute_result"
    }
   ],
   "source": [
    "df_start.head()"
   ]
  },
  {
   "cell_type": "code",
   "execution_count": 24,
   "metadata": {},
   "outputs": [
    {
     "data": {
      "text/html": [
       "<div>\n",
       "<style>\n",
       "    .dataframe thead tr:only-child th {\n",
       "        text-align: right;\n",
       "    }\n",
       "\n",
       "    .dataframe thead th {\n",
       "        text-align: left;\n",
       "    }\n",
       "\n",
       "    .dataframe tbody tr th {\n",
       "        vertical-align: top;\n",
       "    }\n",
       "</style>\n",
       "<table border=\"1\" class=\"dataframe\">\n",
       "  <thead>\n",
       "    <tr style=\"text-align: right;\">\n",
       "      <th></th>\n",
       "      <th>content_ID</th>\n",
       "      <th>device_ID</th>\n",
       "      <th>event_type</th>\n",
       "      <th>event_time</th>\n",
       "    </tr>\n",
       "  </thead>\n",
       "  <tbody>\n",
       "    <tr>\n",
       "      <th>573</th>\n",
       "      <td>1</td>\n",
       "      <td>1</td>\n",
       "      <td>end</td>\n",
       "      <td>2016-01-01 00:48:05</td>\n",
       "    </tr>\n",
       "    <tr>\n",
       "      <th>895</th>\n",
       "      <td>1</td>\n",
       "      <td>1</td>\n",
       "      <td>end</td>\n",
       "      <td>2016-01-01 01:15:14</td>\n",
       "    </tr>\n",
       "    <tr>\n",
       "      <th>1505</th>\n",
       "      <td>1</td>\n",
       "      <td>1</td>\n",
       "      <td>end</td>\n",
       "      <td>2016-01-01 02:07:02</td>\n",
       "    </tr>\n",
       "    <tr>\n",
       "      <th>4249</th>\n",
       "      <td>1</td>\n",
       "      <td>1</td>\n",
       "      <td>end</td>\n",
       "      <td>2016-01-01 05:56:06</td>\n",
       "    </tr>\n",
       "    <tr>\n",
       "      <th>4383</th>\n",
       "      <td>1</td>\n",
       "      <td>1</td>\n",
       "      <td>end</td>\n",
       "      <td>2016-01-01 06:07:34</td>\n",
       "    </tr>\n",
       "  </tbody>\n",
       "</table>\n",
       "</div>"
      ],
      "text/plain": [
       "      content_ID  device_ID event_type          event_time\n",
       "573            1          1        end 2016-01-01 00:48:05\n",
       "895            1          1        end 2016-01-01 01:15:14\n",
       "1505           1          1        end 2016-01-01 02:07:02\n",
       "4249           1          1        end 2016-01-01 05:56:06\n",
       "4383           1          1        end 2016-01-01 06:07:34"
      ]
     },
     "execution_count": 24,
     "metadata": {},
     "output_type": "execute_result"
    }
   ],
   "source": [
    "df_end.head()"
   ]
  },
  {
   "cell_type": "code",
   "execution_count": 25,
   "metadata": {},
   "outputs": [
    {
     "data": {
      "text/plain": [
       "259182"
      ]
     },
     "execution_count": 25,
     "metadata": {},
     "output_type": "execute_result"
    }
   ],
   "source": [
    "len(df_start.index)"
   ]
  },
  {
   "cell_type": "code",
   "execution_count": 26,
   "metadata": {},
   "outputs": [
    {
     "data": {
      "text/plain": [
       "259182"
      ]
     },
     "execution_count": 26,
     "metadata": {},
     "output_type": "execute_result"
    }
   ],
   "source": [
    "len(df_end.index)"
   ]
  },
  {
   "cell_type": "code",
   "execution_count": 27,
   "metadata": {},
   "outputs": [],
   "source": [
    "df_start = df_start.reset_index(drop=True)\n",
    "df_end = df_end.reset_index(drop=True)\n",
    "df_start['start_time'] = df_start['event_time']\n",
    "df_end['end_time']=df_end['event_time']\n",
    "df_start = df_start.drop([\"event_type\",\"event_time\"], axis=1)"
   ]
  },
  {
   "cell_type": "code",
   "execution_count": 28,
   "metadata": {},
   "outputs": [
    {
     "data": {
      "text/plain": [
       "259182"
      ]
     },
     "execution_count": 28,
     "metadata": {},
     "output_type": "execute_result"
    }
   ],
   "source": [
    "# The data is consistent.\n",
    "out = (df_start[['device_ID','content_ID']] == df_end[['device_ID','content_ID']]).all(axis=1)\n",
    "len(df_start[out].index)\n"
   ]
  },
  {
   "cell_type": "code",
   "execution_count": 29,
   "metadata": {},
   "outputs": [
    {
     "data": {
      "text/plain": [
       "259182"
      ]
     },
     "execution_count": 29,
     "metadata": {},
     "output_type": "execute_result"
    }
   ],
   "source": [
    "len(df_start)"
   ]
  },
  {
   "cell_type": "code",
   "execution_count": 30,
   "metadata": {},
   "outputs": [],
   "source": [
    "df_end = df_end.drop([\"event_type\",\"event_time\",\"content_ID\",\"device_ID\"],axis=1)\n",
    "merged = pd.concat([df_start,df_end],axis =1)"
   ]
  },
  {
   "cell_type": "code",
   "execution_count": 31,
   "metadata": {},
   "outputs": [
    {
     "data": {
      "text/plain": [
       "259182"
      ]
     },
     "execution_count": 31,
     "metadata": {},
     "output_type": "execute_result"
    }
   ],
   "source": [
    "# Validation\n",
    "len(merged[merged['start_time']< merged['end_time']])"
   ]
  },
  {
   "cell_type": "code",
   "execution_count": 33,
   "metadata": {},
   "outputs": [],
   "source": [
    "conn = sqlite3.connect(\"advertima.db\")\n",
    "os.chmod('advertima.db',0o755)# Opens file if exists, else creates file\n",
    "cur = conn.cursor()\n",
    "merged.to_sql(name=\"event\", con=conn, if_exists=\"append\", index=False)"
   ]
  },
  {
   "cell_type": "markdown",
   "metadata": {},
   "source": [
    "Writing Persons CSV to database"
   ]
  },
  {
   "cell_type": "code",
   "execution_count": 34,
   "metadata": {},
   "outputs": [],
   "source": [
    "person = pd.read_csv('persons.csv')\n",
    "person = person.sort_values(by=['device_id','appears'])\n",
    "person.head()\n",
    "person.to_sql(name=\"person\", con=conn, if_exists=\"append\", index=False)\n"
   ]
  },
  {
   "cell_type": "markdown",
   "metadata": {},
   "source": [
    "Checking that the tables are created properly"
   ]
  },
  {
   "cell_type": "code",
   "execution_count": 35,
   "metadata": {},
   "outputs": [
    {
     "name": "stdout",
     "output_type": "stream",
     "text": [
      "====================================================================================================\n"
     ]
    },
    {
     "data": {
      "text/plain": [
       "[(1, '2016-01-01 00:00:31', '2016-01-01 00:01:14', 44, 'male'),\n",
       " (1, '2016-01-01 00:01:03', '2016-01-01 00:01:24', 23, 'male'),\n",
       " (1, '2016-01-01 00:01:23', '2016-01-01 00:01:30', 30, 'male'),\n",
       " (1, '2016-01-01 00:01:25', '2016-01-01 00:02:48', 70, 'female'),\n",
       " (1, '2016-01-01 00:01:33', '2016-01-01 00:02:02', 63, 'male')]"
      ]
     },
     "execution_count": 35,
     "metadata": {},
     "output_type": "execute_result"
    }
   ],
   "source": [
    "sql = 'select * from event limit 5;'\n",
    "sql2 = 'select * from person limit 5;'\n",
    "cur.execute(sql) \n",
    "cur.fetchall()\n",
    "print(\"=\"*100)\n",
    "cur.execute(sql2)\n",
    "cur.fetchall()"
   ]
  },
  {
   "cell_type": "markdown",
   "metadata": {},
   "source": [
    "Creating index on tables to reduce latency during retrival."
   ]
  },
  {
   "cell_type": "code",
   "execution_count": 36,
   "metadata": {},
   "outputs": [
    {
     "data": {
      "text/plain": [
       "<sqlite3.Cursor at 0x106e0dc00>"
      ]
     },
     "execution_count": 36,
     "metadata": {},
     "output_type": "execute_result"
    }
   ],
   "source": [
    "sql = \"CREATE INDEX content_idx ON event (content_ID);\"\n",
    "cur.execute(sql) "
   ]
  },
  {
   "cell_type": "code",
   "execution_count": 37,
   "metadata": {},
   "outputs": [
    {
     "data": {
      "text/plain": [
       "<sqlite3.Cursor at 0x106e0dc00>"
      ]
     },
     "execution_count": 37,
     "metadata": {},
     "output_type": "execute_result"
    }
   ],
   "source": [
    "sql = \"CREATE INDEX pdevice_idx ON person (device_id);\"\n",
    "cur.execute(sql) "
   ]
  },
  {
   "cell_type": "code",
   "execution_count": 7,
   "metadata": {},
   "outputs": [
    {
     "name": "stdout",
     "output_type": "stream",
     "text": [
      "2016-01-03 06:33:35\n"
     ]
    },
    {
     "data": {
      "text/plain": [
       "74"
      ]
     },
     "execution_count": 7,
     "metadata": {},
     "output_type": "execute_result"
    }
   ],
   "source": [
    "conn = sqlite3.connect(\"advertima.db\")\n",
    "cur = conn.cursor()\n",
    "args = {'device_id' :1, 'content_id':100, 'start_time':\"2016-01-01 00:47:25\", 'end_time':\"2016-01-03 06:50:03\"}\n",
    "sql = \"select start_time,end_time from event\\\n",
    "       where device_id = {device_id} and content_id={content_id} \\\n",
    "       and max(start_time, '{start_time}') < min(end_time, '{end_time}')\".format(**args)\n",
    "content_output = pd.read_sql(sql,conn).reset_index(drop=True)\n",
    "content_output['start_time'] = pd.to_datetime(content_output['start_time'],format='%Y-%m-%d %H:%M:%S')\n",
    "content_output['end_time'] = pd.to_datetime(content_output['end_time'],format='%Y-%m-%d %H:%M:%S')\n",
    "args['end_time'] = str(max(content_output['end_time']))\n",
    "print(args['end_time'])\n",
    "len(content_output.index)"
   ]
  },
  {
   "cell_type": "code",
   "execution_count": 9,
   "metadata": {},
   "outputs": [
    {
     "data": {
      "text/plain": [
       "12106"
      ]
     },
     "execution_count": 9,
     "metadata": {},
     "output_type": "execute_result"
    }
   ],
   "source": [
    "#args = {'device_id' :1, 'content_id':1, 'start_time':\"2016-01-01 00:47:25\", 'end_time':\"2016-01-01 06:50:31\"}\n",
    "sql = \"select * from person where device_ID = {device_id} and appears between\\\n",
    "'{start_time}' and '{end_time}';\".format(**args)\n",
    "cur.execute(sql) \n",
    "person_output = pd.read_sql(sql,conn).reset_index(drop=True)\n",
    "type(person_output['appears'][0])\n",
    "person_output['appears'] = pd.to_datetime(person_output['appears'],format='%Y-%m-%d %H:%M:%S')\n",
    "person_output['disappears'] = pd.to_datetime(person_output['disappears'],format='%Y-%m-%d %H:%M:%S')\n",
    "len(person_output.index)"
   ]
  },
  {
   "cell_type": "code",
   "execution_count": null,
   "metadata": {},
   "outputs": [],
   "source": [
    "import time\n",
    "t0 = time.time()\n",
    "from itertools import permutations\n",
    "a = list(range(len(person_output.index)))\n",
    "b = list(range(len(content_output.index)))\n",
    "print(len(list(permutations(a,len(b)))))\n",
    "'''\n",
    "#len(list(product(a,b)))\n",
    "count = 0; age = 0; male =0; female =0;avg_age=1;gender_distribution=0;\n",
    "for i,j in product(a,b):\n",
    "    #print(i,j)\n",
    "    if max(person_output['appears'][i],content_output['start_time'][j]) <= \\\n",
    "    min(person_output['disappears'][i],content_output['end_time'][j]):\n",
    "            count+=1\n",
    "            if avg_age:\n",
    "                age += person_output['age'][i]\n",
    "            if gender_distribution:\n",
    "                if person_output['gender'][i] == 'male':\n",
    "                    male +=1 \n",
    "                elif person_output['gender'][i] == 'female':\n",
    "                    female +=1 \n",
    "                else:\n",
    "                    pass\n",
    "'''\n",
    "t1 = time.time()\n",
    "print(t1-t0)\n",
    "if age > 0:\n",
    "    print('Avg age:',age/count)\n",
    "if 0 < male or female > 0:\n",
    "    print('male {} female {}'.format(male/count,female/count))\n",
    "print('Count:',count)"
   ]
  },
  {
   "cell_type": "code",
   "execution_count": null,
   "metadata": {},
   "outputs": [],
   "source": []
  }
 ],
 "metadata": {
  "kernelspec": {
   "display_name": "Python 3",
   "language": "python",
   "name": "python3"
  },
  "language_info": {
   "codemirror_mode": {
    "name": "ipython",
    "version": 3
   },
   "file_extension": ".py",
   "mimetype": "text/x-python",
   "name": "python",
   "nbconvert_exporter": "python",
   "pygments_lexer": "ipython3",
   "version": "3.5.2"
  }
 },
 "nbformat": 4,
 "nbformat_minor": 2
}

{
 "cells": [
  {
   "cell_type": "code",
   "execution_count": 2,
   "metadata": {},
   "outputs": [],
   "source": [
    "import pandas as pd\n",
    "import sqlite3\n",
    "import os"
   ]
  },
  {
   "cell_type": "code",
   "execution_count": null,
   "metadata": {},
   "outputs": [],
   "source": [
    "data = pd.read_csv('events.csv')"
   ]
  },
  {
   "cell_type": "code",
   "execution_count": null,
   "metadata": {},
   "outputs": [],
   "source": [
    "data.head()"
   ]
  },
  {
   "cell_type": "code",
   "execution_count": null,
   "metadata": {},
   "outputs": [],
   "source": [
    "data['event_time']=pd.to_datetime(data['event_time'])"
   ]
  },
  {
   "cell_type": "markdown",
   "metadata": {},
   "source": [
    "Seperate rows with event_type = start from event_type = end and create seperate dataframes"
   ]
  },
  {
   "cell_type": "code",
   "execution_count": null,
   "metadata": {},
   "outputs": [],
   "source": [
    "df_start = data[data['event_type'] == 'start'].sort_values(by=['content_ID','device_ID','event_time'])\n",
    "df_end = data[data['event_type'] == 'end'].sort_values(by=['content_ID','device_ID','event_time'])"
   ]
  },
  {
   "cell_type": "code",
   "execution_count": null,
   "metadata": {},
   "outputs": [],
   "source": [
    "df_start.head()"
   ]
  },
  {
   "cell_type": "code",
   "execution_count": null,
   "metadata": {},
   "outputs": [],
   "source": [
    "df_end.head()"
   ]
  },
  {
   "cell_type": "markdown",
   "metadata": {},
   "source": [
    "There are equal number of start and end rows"
   ]
  },
  {
   "cell_type": "code",
   "execution_count": null,
   "metadata": {},
   "outputs": [],
   "source": [
    "len(df_start.index)"
   ]
  },
  {
   "cell_type": "code",
   "execution_count": null,
   "metadata": {},
   "outputs": [],
   "source": [
    "len(df_end.index)"
   ]
  },
  {
   "cell_type": "code",
   "execution_count": null,
   "metadata": {},
   "outputs": [],
   "source": [
    "df_start = df_start.reset_index(drop=True)\n",
    "df_end = df_end.reset_index(drop=True)\n",
    "df_start['event_id'] = df_start.index\n",
    "df_start['start_time'] = df_start['event_time']\n",
    "df_end['end_time']=df_end['event_time']\n",
    "df_start = df_start.drop([\"event_type\",\"event_time\"], axis=1)\n",
    "df_start.head()"
   ]
  },
  {
   "cell_type": "markdown",
   "metadata": {},
   "source": [
    "For every device_id , content_id combination of start dataframe, the stop dataframe has same device_id and content_id combination. Concatinating these 2 dataframes will give corresponding end_time of that particular event in same file."
   ]
  },
  {
   "cell_type": "code",
   "execution_count": null,
   "metadata": {},
   "outputs": [],
   "source": [
    "out = (df_start[['device_ID','content_ID']] == df_end[['device_ID','content_ID']]).all(axis=1)\n",
    "len(df_start[out].index)"
   ]
  },
  {
   "cell_type": "code",
   "execution_count": null,
   "metadata": {},
   "outputs": [],
   "source": [
    "len(df_start)"
   ]
  },
  {
   "cell_type": "code",
   "execution_count": null,
   "metadata": {},
   "outputs": [],
   "source": [
    "df_end = df_end.drop([\"event_type\",\"event_time\",\"content_ID\",\"device_ID\"],axis=1)\n",
    "merged = pd.concat([df_start,df_end],axis =1)"
   ]
  },
  {
   "cell_type": "markdown",
   "metadata": {},
   "source": [
    "All start times are less than end times. The data is consistent."
   ]
  },
  {
   "cell_type": "code",
   "execution_count": null,
   "metadata": {},
   "outputs": [],
   "source": [
    "len(merged[merged['start_time']< merged['end_time']])\n",
    "merged.head()"
   ]
  },
  {
   "cell_type": "markdown",
   "metadata": {},
   "source": [
    "Writing Persons CSV to database"
   ]
  },
  {
   "cell_type": "code",
   "execution_count": null,
   "metadata": {},
   "outputs": [],
   "source": [
    "person = pd.read_csv('persons.csv')\n",
    "person['id']=person.index\n",
    "person['appears'] = pd.to_datetime(person['appears'])\n",
    "person['disappears'] = pd.to_datetime(person['disappears'])\n",
    "person = person.sort_values(by=['device_id','appears'])\n",
    "person.head()\n"
   ]
  },
  {
   "cell_type": "code",
   "execution_count": null,
   "metadata": {},
   "outputs": [],
   "source": [
    "if not os.path.exists('advertima.db'):\n",
    "    print('Please create a database using create_database.py. \\n \\\n",
    "    If advertima.db is in a seperate location, then change the path')"
   ]
  },
  {
   "cell_type": "markdown",
   "metadata": {},
   "source": [
    "Checking that the tables are created properly"
   ]
  },
  {
   "cell_type": "code",
   "execution_count": null,
   "metadata": {},
   "outputs": [],
   "source": [
    "\n",
    "\n",
    "sql = 'select * from event limit 5;'\n",
    "sql2 = 'select * from person limit 5;'\n",
    "cur.execute(sql) \n",
    "cur.fetchall()\n",
    "print(\"=\"*100)\n",
    "cur.execute(sql2)\n",
    "cur.fetchall()"
   ]
  }
 ],
 "metadata": {
  "kernelspec": {
   "display_name": "Python 3",
   "language": "python",
   "name": "python3"
  },
  "language_info": {
   "codemirror_mode": {
    "name": "ipython",
    "version": 3
   },
   "file_extension": ".py",
   "mimetype": "text/x-python",
   "name": "python",
   "nbconvert_exporter": "python",
   "pygments_lexer": "ipython3",
   "version": "3.5.2"
  }
 },
 "nbformat": 4,
 "nbformat_minor": 2
}
